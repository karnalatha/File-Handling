{
 "cells": [
  {
   "cell_type": "code",
   "execution_count": 1,
   "id": "dcb397dc-c485-4881-abb1-bec43378a3f4",
   "metadata": {},
   "outputs": [],
   "source": [
    "# Import package for navigating through files stored on your device/on Google Colaboratory\n",
    "import os\n",
    "\n",
    "# Import package for working with JSON files\n",
    "import json\n",
    "\n",
    "# Import package for working with CSV files\n",
    "import csv"
   ]
  },
  {
   "cell_type": "code",
   "execution_count": 6,
   "id": "b54aae39-2df0-4ba0-8daa-fabdab6e16b5",
   "metadata": {},
   "outputs": [],
   "source": [
    "def load_data(main_folder):\n",
    "    \"\"\"\n",
    "    Load product details, sales data, and product descriptions from files within the specified zip file.\n",
    "    \n",
    "    Parameters:\n",
    "        main_folder (str): The path to the zip file containing the dataset.\n",
    "\n",
    "    Returns:\n",
    "        tuple: A tuple containing three dictionaries:\n",
    "            - product_details (dict): A dictionary of dictionaries where keys are product SKUs (extracted from the filenames of the JSON files)\n",
    "              and values are product details loaded from the JSON files.\n",
    "            - sales_data (dict): A dictionary where keys are product SKUs (from the CSV file) and values are lists\n",
    "              of quantities corresponding to sales data.\n",
    "            - product_descriptions (dict): A dictionary where keys are product SKUs (extracted from the filenames of the TXT files)\n",
    "              and values are product descriptions loaded from TXT files.\n",
    "    \"\"\"\n",
    "    # Paths to each data type\n",
    "    sales_csv_path = os.path.join(main_folder, 'sales_data.csv')\n",
    "    descriptions_path = os.path.join(main_folder, 'product_descriptions')\n",
    "    details_path = os.path.join(main_folder, 'product_details')\n",
    "\n",
    "    # Dictionaries to store data with SKU as the key\n",
    "    sales_data = {}\n",
    "    product_descriptions = {}\n",
    "    product_details = {}\n",
    "\n",
    "    # Load sales_data.csv\n",
    "    with open(sales_csv_path, mode='r') as file:\n",
    "        reader = csv.DictReader(file)\n",
    "        for row in reader:\n",
    "            sku = row['Product_SKU']\n",
    "            # Remove 'Product_SKU' from the row before storing\n",
    "            quantities = [int(quantity) for quantity in list(row.values())[1:]]  # skip the first value (SKU) and convert the rest to integers\n",
    "            sales_data[sku] = quantities\n",
    "            \n",
    "    # Load text files from product_descriptions\n",
    "    descriptions_path = os.path.join(main_folder, 'product_descriptions')\n",
    "    for file_name in os.listdir(descriptions_path):\n",
    "        txt_file_path = os.path.join(descriptions_path, file_name)\n",
    "        with open(txt_file_path, 'r') as txt_file:\n",
    "            sku = file_name.replace(\"_\", \".\").split(\".\")[1]\n",
    "            product_descriptions[sku] = txt_file.read()\n",
    "\n",
    "    # Load JSON files from product_details\n",
    "    for file_name in os.listdir(details_path):\n",
    "        json_file_path = os.path.join(details_path, file_name)\n",
    "        with open(json_file_path, 'r') as json_file:\n",
    "            # we can replace the \"_\" with \".\" and then split along \".\" to obtain the SKU at the first index\n",
    "            sku = file_name.replace(\"_\", \".\").split(\".\")[1]\n",
    "            product_details[sku] = json.load(json_file)\n",
    "\n",
    "    return sales_data, product_descriptions, product_details"
   ]
  },
  {
   "cell_type": "code",
   "execution_count": 8,
   "id": "05a209d0-1dc5-4559-a7d7-bceab1384e0d",
   "metadata": {},
   "outputs": [
    {
     "data": {
      "text/plain": [
       "{'AISJDKFJW93NJ': [10, 12, 15, 18, 20, 22, 25, 28, 26, 30, 32, 29, 27, 24],\n",
       " 'DJKFIEI432FIE': [8, 10, 12, 15, 20, 18, 14, 13, 17, 10, 8, 11, 14, 16],\n",
       " 'GGOENEBJ079499': [15, 18, 22, 25, 28, 20, 17, 23, 19, 21, 24, 27, 18, 20],\n",
       " 'HJSKNWK429DJE': [30, 32, 35, 38, 40, 42, 45, 48, 50, 52, 55, 53, 49, 47],\n",
       " 'JFKL3940NFKLJ': [18, 20, 22, 25, 28, 30, 32, 35, 38, 36, 33, 29, 26, 24],\n",
       " 'LKDFJ49LSDJKL': [25, 28, 30, 32, 35, 38, 42, 40, 37, 34, 36, 31, 29, 27],\n",
       " 'MWKDI3JFK39SL': [30, 35, 40, 45, 50, 42, 37, 38, 41, 36, 33, 39, 40, 44],\n",
       " 'NEKFJOWE9FDIW': [12, 15, 18, 20, 22, 24, 21, 23, 25, 28, 30, 27, 26, 29],\n",
       " 'OWEJL398FWJLK': [20, 22, 25, 28, 30, 32, 35, 38, 36, 33, 29, 26, 24, 27],\n",
       " 'XPLFJW2490XJN': [5, 8, 9, 12, 15, 10, 14, 16, 20, 18, 22, 25, 19, 21]}"
      ]
     },
     "execution_count": 8,
     "metadata": {},
     "output_type": "execute_result"
    }
   ],
   "source": [
    "main_folder_address=r\"C:\\Users\\admin\\Desktop\\mainfolder\\mainfolder\"\n",
    "\n",
    "sales_data, product_descriptions, product_details = load_data(main_folder_address)\n",
    "sales_data"
   ]
  },
  {
   "cell_type": "code",
   "execution_count": 10,
   "id": "d1063fbe-3073-4fd6-b4d7-6ae124f670d8",
   "metadata": {},
   "outputs": [],
   "source": [
    "def update_sales_data(sales_data, sku, quantities):\n",
    "    \"\"\"\n",
    "    Add sales data for a new product SKU or update the sales data for an existing product SKU.\n",
    "\n",
    "    Parameters:\n",
    "        sales_data (dict): The dictionary containing sales data.\n",
    "        sku (str): The product SKU.\n",
    "        quantities (list of int): List of quantities sold for each of the past 14 days.\n",
    "\n",
    "    Returns:\n",
    "        dict: The updated sales data after adding the entry for the new SKU or modifying the entry for an existing SKU.\n",
    "    \"\"\"\n",
    "\n",
    "    # Directly add new entry to sales data dictionary\n",
    "    sales_data[sku] = quantities\n",
    "\n",
    "    return sales_data"
   ]
  },
  {
   "cell_type": "code",
   "execution_count": 11,
   "id": "3f8682fa-d0f1-451a-b281-f81d36eb3a1d",
   "metadata": {},
   "outputs": [
    {
     "data": {
      "text/plain": [
       "{'AISJDKFJW93NJ': [10, 12, 15, 18, 20, 22, 25, 28, 26, 30, 32, 29, 27, 24],\n",
       " 'DJKFIEI432FIE': [8, 10, 12, 15, 20, 18, 14, 13, 17, 10, 8, 11, 14, 16],\n",
       " 'GGOENEBJ079499': [15, 18, 22, 25, 28, 20, 17, 23, 19, 21, 24, 27, 18, 20],\n",
       " 'HJSKNWK429DJE': [30, 32, 35, 38, 40, 42, 45, 48, 50, 52, 55, 53, 49, 47],\n",
       " 'JFKL3940NFKLJ': [18, 20, 22, 25, 28, 30, 32, 35, 38, 36, 33, 29, 26, 24],\n",
       " 'LKDFJ49LSDJKL': [25, 28, 30, 32, 35, 38, 42, 40, 37, 34, 36, 31, 29, 27],\n",
       " 'MWKDI3JFK39SL': [30, 35, 40, 45, 50, 42, 37, 38, 41, 36, 33, 39, 40, 44],\n",
       " 'NEKFJOWE9FDIW': [12, 15, 18, 20, 22, 24, 21, 23, 25, 28, 30, 27, 26, 29],\n",
       " 'OWEJL398FWJLK': [20, 22, 25, 28, 30, 32, 35, 38, 36, 33, 29, 26, 24, 27],\n",
       " 'XPLFJW2490XJN': [5, 8, 9, 12, 15, 10, 14, 16, 20, 18, 22, 25, 19, 21],\n",
       " 'CMWKCILOP27KF': [8, 14, 16, 7, 15, 21, 14, 16, 32, 29, 26, 30, 25, 22]}"
      ]
     },
     "execution_count": 11,
     "metadata": {},
     "output_type": "execute_result"
    }
   ],
   "source": [
    "sales_data = update_sales_data(sales_data,\n",
    "                            'CMWKCILOP27KF',\n",
    "                             [8, 14, 16, 7, 15, 21, 14, 16, 32, 29, 26, 30, 25, 22])\n",
    "sales_data"
   ]
  },
  {
   "cell_type": "code",
   "execution_count": 12,
   "id": "043d5950-47f8-49e0-a007-6cfb385b883f",
   "metadata": {},
   "outputs": [],
   "source": [
    "def update_product_details(product_details, sku, product_info):\n",
    "    \"\"\"\n",
    "    Add or update product information in the product_details dictionary.\n",
    "\n",
    "    Parameters:\n",
    "        product_details (dict): Dictionary of products keyed by SKU.\n",
    "        sku (str): SKU of the product to update or add.\n",
    "        product_info (dict): Dictionary containing product details such as:\n",
    "            product_name, brand, model, specifications, price, availability.\n",
    "\n",
    "    Returns:\n",
    "        dict: Updated product_details dictionary.\n",
    "    \"\"\"\n",
    "    # Add or update the product_info for the given SKU\n",
    "    product_details[sku] = product_info\n",
    "\n",
    "    return product_details"
   ]
  },
  {
   "cell_type": "code",
   "execution_count": 13,
   "id": "e56db8a3-e082-4fe9-a59a-48d179eed134",
   "metadata": {},
   "outputs": [],
   "source": [
    "product_details = update_product_details(product_details,\"CMWKCILOP27KF\",{\n",
    "    'product_name': 'Pokemon Card',\n",
    "    'brand': 'GameFreak',\n",
    "    'model': 'ScarletViolet151',\n",
    "    'specifications': 'Genuine, TCG, English',\n",
    "    'price': '$1.99',\n",
    "    'availability': 'In stock'})"
   ]
  },
  {
   "cell_type": "code",
   "execution_count": 14,
   "id": "a29eb3b3-8260-43a6-b0c1-f36d5e670536",
   "metadata": {},
   "outputs": [
    {
     "data": {
      "text/plain": [
       "{'AISJDKFJW93NJ': {'product_name': 'Wall Art Print',\n",
       "  'brand': 'ArtCraft',\n",
       "  'model': 'NatureCanvas-1001',\n",
       "  'specifications': 'Canvas print, Ready to hang',\n",
       "  'price': '$49.99',\n",
       "  'availability': 'In stock'},\n",
       " 'DJKFIEI432FIE': {'product_name': \"Men's Running Shoes\",\n",
       "  'brand': 'RunFit',\n",
       "  'model': 'SpeedX-500',\n",
       "  'specifications': 'Size 10, Lightweight design, Breathable material',\n",
       "  'price': '$79.99',\n",
       "  'availability': 'In stock'},\n",
       " 'GGOENEBJ079499': {'product_name': 'Smartphone',\n",
       "  'brand': 'XYZ Electronics',\n",
       "  'model': 'ABC-2000',\n",
       "  'specifications': '6.5-inch display, 128GB storage, 16MP camera',\n",
       "  'price': '$499.99',\n",
       "  'availability': 'In stock'},\n",
       " 'HJSKNWK429DJE': {'product_name': 'Wireless Earbuds',\n",
       "  'brand': 'SoundSync',\n",
       "  'model': 'TunePro-2022',\n",
       "  'specifications': 'Bluetooth 5.0, 20 hours battery life, Touch controls',\n",
       "  'price': '$89.99',\n",
       "  'availability': 'In stock'},\n",
       " 'JFKL3940NFKLJ': {'product_name': 'Resistance Bands Set',\n",
       "  'brand': 'FitFlex',\n",
       "  'model': 'StrengthPro-300',\n",
       "  'specifications': '5 bands, Varying resistance levels, Portable',\n",
       "  'price': '$34.99',\n",
       "  'availability': 'In stock'},\n",
       " 'LKDFJ49LSDJKL': {'product_name': 'Anti-Aging Face Cream',\n",
       "  'brand': 'GlowBeauty',\n",
       "  'model': 'AgeDefy-300',\n",
       "  'specifications': 'Natural ingredients, Hydrating formula',\n",
       "  'price': '$39.99',\n",
       "  'availability': 'In stock'},\n",
       " 'MWKDI3JFK39SL': {'product_name': 'Fictional Novel',\n",
       "  'brand': 'BestBooks',\n",
       "  'model': None,\n",
       "  'specifications': 'Paperback, 300 pages',\n",
       "  'price': '$14.99',\n",
       "  'availability': 'In stock'},\n",
       " 'NEKFJOWE9FDIW': {'product_name': 'Board Game',\n",
       "  'brand': 'FamilyFun',\n",
       "  'model': 'GameNight-2022',\n",
       "  'specifications': '2-6 players, Ages 8 and up',\n",
       "  'price': '$29.99',\n",
       "  'availability': 'In stock'},\n",
       " 'OWEJL398FWJLK': {'product_name': 'Yoga Mat',\n",
       "  'brand': 'ZenFitness',\n",
       "  'model': 'EcoMat-500',\n",
       "  'specifications': 'Non-slip, 6mm thickness, Eco-friendly material',\n",
       "  'price': '$19.99',\n",
       "  'availability': 'In stock'},\n",
       " 'XPLFJW2490XJN': {'product_name': 'Robot Vacuum Cleaner',\n",
       "  'brand': 'CleanTech',\n",
       "  'model': 'AutoSweep-9000',\n",
       "  'specifications': 'Smart navigation, HEPA filter, 90 minutes runtime',\n",
       "  'price': '$249.99',\n",
       "  'availability': 'In stock'},\n",
       " 'CMWKCILOP27KF': {'product_name': 'Pokemon Card',\n",
       "  'brand': 'GameFreak',\n",
       "  'model': 'ScarletViolet151',\n",
       "  'specifications': 'Genuine, TCG, English',\n",
       "  'price': '$1.99',\n",
       "  'availability': 'In stock'}}"
      ]
     },
     "execution_count": 14,
     "metadata": {},
     "output_type": "execute_result"
    }
   ],
   "source": [
    "product_details"
   ]
  },
  {
   "cell_type": "code",
   "execution_count": 15,
   "id": "e335f3f6-1498-4a4e-99c3-b4426045219c",
   "metadata": {},
   "outputs": [],
   "source": [
    "def update_product_description(product_descriptions, sku, description):\n",
    "    \"\"\"\n",
    "    Add or update a product description in the product_descriptions dictionary.\n",
    "\n",
    "    Parameters:\n",
    "        product_descriptions (dict): Dictionary where keys are SKUs and values are product descriptions (strings).\n",
    "        sku (str): The SKU of the product to be added or updated.\n",
    "        description (str): The new or updated product description.\n",
    "\n",
    "    Returns:\n",
    "        dict: Updated product_descriptions dictionary.\n",
    "    \"\"\"\n",
    "    # Add or update the SKU entry with the provided description\n",
    "    product_descriptions[sku] = description.strip()\n",
    "\n",
    "    return product_descriptions"
   ]
  },
  {
   "cell_type": "code",
   "execution_count": 16,
   "id": "437f2585-2a93-4bfa-b4bf-3ffdafefe692",
   "metadata": {},
   "outputs": [
    {
     "data": {
      "text/plain": [
       "{'AISJDKFJW93NJ': \"Transform your living space with ArtCraft's NatureCanvas-1001 Wall Art Print.\\nThis canvas print, ready to hang, brings the beauty of nature into your home.\\nWith dimensions of 16 x 20 inches and a 4.6/5 stars rating, it's a stunning addition to your decor, creating a focal point that captures attention and sparks conversation.\",\n",
       " 'DJKFIEI432FIE': \"Elevate your running experience with the RunFit SpeedX-500 Men's Running Shoes.\\nDesigned for performance, these shoes feature a lightweight design, breathable material, and are available in vibrant Red, Blue, and classic Black.\\nWhether you're a seasoned runner or just starting, these shoes provide comfort and support for every stride, ensuring you reach new milestones effortlessly.\",\n",
       " 'GGOENEBJ079499': 'Dive into the future with the XYZ Electronics Smartphone, model ABC-2000.\\nBoasting a 6.5-inch display, 128GB storage, and a 16MP camera, this powerful device redefines the smartphone experience.\\nWith a sleek design and available in Black, Silver, and Blue, it combines cutting-edge technology with style, ensuring you stay connected in the most sophisticated way possible.',\n",
       " 'HJSKNWK429DJE': \"Immerse yourself in superior audio quality with SoundSync's TunePro-2022 Wireless Earbuds.\\nFeaturing Bluetooth 5.0, 20 hours of battery life, and touch controls, these earbuds deliver a seamless and immersive listening experience.\\nAvailable in Black and White, they combine style with functionality for music lovers on the go. \\nWith a 4.7/5 stars rating, they stand out as a top choice in the realm of wireless audio.\",\n",
       " 'JFKL3940NFKLJ': \"Embrace versatility in your workouts with FitFlex's StrengthPro-300 Resistance Bands Set.\\nWith 5 bands offering varying resistance levels and portability, this set is your go-to for effective strength training.\\nAvailable in Red, Yellow, and Blue, it caters to different fitness levels and adds a dynamic dimension to your exercise routine.\",\n",
       " 'LKDFJ49LSDJKL': \"Rediscover youthful radiance with GlowBeauty's AgeDefy-300 Anti-Aging Face Cream.\\nFormulated with natural ingredients and a hydrating formula, this skincare essential rejuvenates and nourishes your skin, leaving you with a vibrant and refreshed complexion.\\nWith a stellar 4.7/5 stars rating, it's a must-have for those embracing the journey to ageless beauty.\",\n",
       " 'MWKDI3JFK39SL': \"Immerse yourself in the world of storytelling with BestBooks' Fictional Novel.\\nThis paperback, spanning 300 pages, promises a captivating journey through the pages of an engaging narrative.\\nIdeal for avid readers seeking an escape, this novel, with a 4.6/5 stars rating, is a testament to its ability to weave a compelling tale that keeps you hooked until the last page.\",\n",
       " 'NEKFJOWE9FDIW': \"Unleash the fun with FamilyFun's GameNight-2022 Board Game.\\nDesigned for 2-6 players and suitable for ages 8 and up, this exciting game promises laughter and bonding moments for the entire family.\\nWith a 4.4/5 stars rating, it's a testament to its ability to turn any ordinary night into an extraordinary game night filled with friendly competition and shared joy.\",\n",
       " 'OWEJL398FWJLK': \"Elevate your yoga practice with ZenFitness' EcoMat-500 Yoga Mat.\\nFeaturing a non-slip surface, 6mm thickness, and eco-friendly materials, this high-quality mat provides the perfect foundation for your workouts.\\nAvailable in Purple, Green, and Blue, it not only enhances your comfort but also adds a touch of serenity to your exercise routine.\",\n",
       " 'XPLFJW2490XJN': 'Introducing the CleanTech AutoSweep-9000 Robot Vacuum Cleaner â€“ your smart companion for automated cleaning.\\nWith smart navigation, a HEPA filter, and a runtime of 90 minutes, this efficient device takes care of your cleaning needs.\\nAvailable in White and Silver, it blends seamlessly into your home, making cleanliness a hassle-free experience.',\n",
       " 'CMWKCILOP27KF': 'Original Pokemon TCG Pikachu card'}"
      ]
     },
     "execution_count": 16,
     "metadata": {},
     "output_type": "execute_result"
    }
   ],
   "source": [
    "product_descriptions = update_product_description(product_descriptions,\"CMWKCILOP27KF\",\"Original Pokemon TCG Pikachu card\")\n",
    "product_descriptions"
   ]
  },
  {
   "cell_type": "code",
   "execution_count": 17,
   "id": "7c863a8a-7b97-4382-9dd8-505a223fd017",
   "metadata": {},
   "outputs": [],
   "source": [
    "def update(product_details, sales_data, product_descriptions):\n",
    "    \"\"\"\n",
    "    Collects and validates product information from the user and updates product_details,\n",
    "    sales_data, and product_descriptions dictionaries accordingly.\n",
    "\n",
    "    Parameters:\n",
    "        product_details (dict): SKU -> product information dictionary.\n",
    "        sales_data (dict): SKU -> sales quantities dictionary for 14 days.\n",
    "        product_descriptions (dict): SKU -> product description string.\n",
    "\n",
    "    Returns:\n",
    "        tuple: Updated (product_details, sales_data, product_descriptions) dictionaries.\n",
    "    \"\"\"\n",
    "\n",
    "    # Prompt for SKU and validate\n",
    "    sku = input(\"Enter the 13-character SKU: \").strip()\n",
    "    if len(sku) != 13:\n",
    "        print(\"❌ Error: SKU must be exactly 13 characters long.\")\n",
    "        return product_details, sales_data, product_descriptions\n",
    "\n",
    "    # Prompt for sales data (14 whole numbers)\n",
    "    sales_input = input(\"Enter sales data for the last 14 days (14 whole numbers separated by spaces): \").strip()\n",
    "    sales_list = sales_input.split()\n",
    "\n",
    "    if len(sales_list) != 14 or not all(item.isdigit() for item in sales_list):\n",
    "        print(\"❌ Error: You must enter exactly 14 whole numbers separated by spaces.\")\n",
    "        return product_details, sales_data, product_descriptions\n",
    "\n",
    "    sales_list = [int(x) for x in sales_list]\n",
    "\n",
    "    # Collect product details\n",
    "    product_name = input(\"Enter product name: \").strip()\n",
    "    brand = input(\"Enter brand name: \").strip()\n",
    "    model = input(\"Enter model: \").strip()\n",
    "    specifications = input(\"Enter product specifications: \").strip()\n",
    "    price = input(\"Enter price (e.g., $49.99): \").strip()\n",
    "    availability = input(\"Enter availability (e.g., In stock): \").strip()\n",
    "\n",
    "    # Collect product description\n",
    "    description = input(\"Enter product description: \").strip()\n",
    "    if not description:\n",
    "        print(\"❌ Error: Product description cannot be empty.\")\n",
    "        return product_details, sales_data, product_descriptions\n",
    "\n",
    "    # Construct product info dictionary\n",
    "    product_info = {\n",
    "        \"product_name\": product_name,\n",
    "        \"brand\": brand,\n",
    "        \"model\": model,\n",
    "        \"specifications\": specifications,\n",
    "        \"price\": price,\n",
    "        \"availability\": availability\n",
    "    }\n",
    "\n",
    "    # Assuming all inputs are now valid, call the functions to add the data\n",
    "    sales_data = update_sales_data(sales_data, sku, sales_list)\n",
    "    product_details = update_product_details(product_details, sku, product_info)\n",
    "    product_descriptions = update_product_description(product_descriptions, sku, description)\n",
    "    \n",
    "    print(\"✅ Product data has been successfully added or updated.\")\n",
    "\n",
    "    return product_details, sales_data, product_descriptions"
   ]
  },
  {
   "cell_type": "code",
   "execution_count": 20,
   "id": "8ab8716c-b7e9-4a8d-8ee0-55d9940a3d0c",
   "metadata": {},
   "outputs": [
    {
     "name": "stdin",
     "output_type": "stream",
     "text": [
      "Enter the 13-character SKU:  MNBVCXZLKJHGF\n",
      "Enter sales data for the last 14 days (14 whole numbers separated by spaces):  5 10 15 20 25 30 35 40 45 50 55 60 65 70\n",
      "Enter product name:  Game Controller\n",
      "Enter brand name:  Sony\n",
      "Enter model:  DualShockX\n",
      "Enter product specifications:  Wireless, USB-C, Vibration\n",
      "Enter price (e.g., $49.99):  $59.99\n",
      "Enter availability (e.g., In stock):  Out of stock\n",
      "Enter product description:  High-performance wireless controller for pro gaming.\n"
     ]
    },
    {
     "name": "stdout",
     "output_type": "stream",
     "text": [
      "✅ Product data has been successfully added or updated.\n"
     ]
    }
   ],
   "source": [
    "product_details, sales_data, product_descriptions = update(product_details, sales_data, product_descriptions)"
   ]
  },
  {
   "cell_type": "code",
   "execution_count": 21,
   "id": "6b091751-4b86-465c-a98c-2ab83e6fb581",
   "metadata": {},
   "outputs": [],
   "source": [
    "def dump_data(sales_data, product_details, product_descriptions, main_folder):\n",
    "    # Ensure main folder exists\n",
    "    os.makedirs(main_folder, exist_ok=True)\n",
    "\n",
    "    # Paths to subfolders\n",
    "    details_folder = os.path.join(main_folder, \"product_details\")\n",
    "    descriptions_folder = os.path.join(main_folder, \"product_descriptions\")\n",
    "\n",
    "    # --- 1. Dump sales_data to CSV ---\n",
    "    sales_file = os.path.join(main_folder, \"sales_data.csv\")\n",
    "    with open(sales_file, mode='w', newline='', encoding='utf-8') as file:\n",
    "        fieldnames = ['Product_SKU', *map(str, range(1, 15))] # field names for SKU and 14 days as strings\n",
    "        writer = csv.DictWriter(file, fieldnames=fieldnames)\n",
    "        writer.writeheader()\n",
    "        for sku, day_data in sales_data.items():\n",
    "            row = {'Product_SKU': sku}\n",
    "            for i, q in enumerate(day_data, start=1):\n",
    "                row[str(i)] = q\n",
    "            writer.writerow(row)\n",
    "            \n",
    "    # --- 2. Dump product_details to individual JSON files ---\n",
    "    details_folder = os.path.join(main_folder, \"product_details\")\n",
    "    if not os.path.exists(details_folder):\n",
    "        os.makedirs(details_folder)\n",
    "    for sku, details in product_details.items():\n",
    "        json_path = os.path.join(details_folder, f\"details_{sku}.json\")\n",
    "        with open(json_path, 'w') as json_file:\n",
    "            json.dump(details, json_file)\n",
    "\n",
    "    # --- 3. Dump product_descriptions to individual TXT files ---\n",
    "    descriptions_folder = os.path.join(main_folder, \"product_descriptions\")\n",
    "    if not os.path.exists(descriptions_folder):\n",
    "        os.makedirs(descriptions_folder)\n",
    "    for sku, description in product_descriptions.items():\n",
    "        txt_path = os.path.join(descriptions_folder, f\"description_{sku}.txt\")\n",
    "        with open(txt_path, 'w') as txt_file:\n",
    "            txt_file.write(description)\n",
    "\n",
    "    print(\"✅ Data successfully dumped to disk.\")"
   ]
  },
  {
   "cell_type": "code",
   "execution_count": 22,
   "id": "8d0c8f4d-8a6c-4c5d-8430-9758c451fb59",
   "metadata": {},
   "outputs": [
    {
     "name": "stdout",
     "output_type": "stream",
     "text": [
      "✅ Data successfully dumped to disk.\n"
     ]
    }
   ],
   "source": [
    "dump_data(sales_data, product_details, product_descriptions, main_folder_address)"
   ]
  },
  {
   "cell_type": "code",
   "execution_count": null,
   "id": "fbfe7601-959f-47e6-8ea2-049a0bcb5991",
   "metadata": {},
   "outputs": [],
   "source": []
  }
 ],
 "metadata": {
  "kernelspec": {
   "display_name": "Python 3 (ipykernel)",
   "language": "python",
   "name": "python3"
  },
  "language_info": {
   "codemirror_mode": {
    "name": "ipython",
    "version": 3
   },
   "file_extension": ".py",
   "mimetype": "text/x-python",
   "name": "python",
   "nbconvert_exporter": "python",
   "pygments_lexer": "ipython3",
   "version": "3.12.7"
  }
 },
 "nbformat": 4,
 "nbformat_minor": 5
}
