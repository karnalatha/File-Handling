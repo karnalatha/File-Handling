{
 "cells": [
  {
   "cell_type": "code",
   "execution_count": 2,
   "id": "f08367a8-4d60-48e0-85ac-805476223bde",
   "metadata": {},
   "outputs": [
    {
     "name": "stdout",
     "output_type": "stream",
     "text": [
      "Moved: description_AISJDKFJW93NJ.txt → text\n",
      "Moved: description_DJKFIEI432FIE.txt → text\n",
      "Moved: description_GGOENEBJ079499.txt → text\n",
      "Moved: description_HJSKNWK429DJE.txt → text\n",
      "Moved: description_JFKL3940NFKLJ.txt → text\n",
      "Moved: description_LKDFJ49LSDJKL.txt → text\n",
      "Moved: description_MWKDI3JFK39SL.txt → text\n",
      "Moved: description_NEKFJOWE9FDIW.txt → text\n",
      "Moved: description_OWEJL398FWJLK.txt → text\n",
      "Moved: description_XPLFJW2490XJN.txt → text\n",
      "Moved: details_AISJDKFJW93NJ.json → json\n",
      "Moved: details_DJKFIEI432FIE.json → json\n",
      "Moved: details_GGOENEBJ079499.json → json\n",
      "Moved: details_HJSKNWK429DJE.json → json\n",
      "Moved: details_JFKL3940NFKLJ.json → json\n",
      "Moved: details_LKDFJ49LSDJKL.json → json\n",
      "Moved: details_MWKDI3JFK39SL.json → json\n",
      "Moved: details_NEKFJOWE9FDIW.json → json\n",
      "Moved: details_OWEJL398FWJLK.json → json\n",
      "Moved: details_XPLFJW2490XJN.json → json\n",
      "Moved: financial_loan.xlsx → excel\n",
      "Moved: sales_data.csv → csv\n",
      "Moved: sample-chocolate-sales-data-all.xlsx → excel\n",
      "Moved: Weather Dataset.csv → csv\n"
     ]
    }
   ],
   "source": [
    "import os\n",
    "import shutil\n",
    "\n",
    "# Base directory where all folders exist\n",
    "base_dir = r\"D:\\data analytics\\DS and AI\\final projects portfolio\\python automation project\\all folders\"  # Replace with your actual path\n",
    "\n",
    "# Source folder containing mixed files\n",
    "source_folder = os.path.join(base_dir, \"all types of files\")\n",
    "\n",
    "# Mapping of file extensions to target folders\n",
    "file_map = {\n",
    "    \".csv\": \"csv\",\n",
    "    \".xlsx\": \"excel\",\n",
    "    \".xls\": \"excel\",\n",
    "    \".json\": \"json\",\n",
    "    \".txt\": \"text\"\n",
    "}\n",
    "\n",
    "# Loop through files in source folder\n",
    "for filename in os.listdir(source_folder):\n",
    "    file_path = os.path.join(source_folder, filename)\n",
    "    \n",
    "    # Skip if it's a folder\n",
    "    if os.path.isdir(file_path):\n",
    "        continue\n",
    "\n",
    "    # Get file extension\n",
    "    ext = os.path.splitext(filename)[1].lower()\n",
    "\n",
    "    # Check if extension is in our map\n",
    "    if ext in file_map:\n",
    "        target_folder = os.path.join(base_dir, file_map[ext])\n",
    "        os.makedirs(target_folder, exist_ok=True)  # Create folder if not exists\n",
    "        shutil.move(file_path, os.path.join(target_folder, filename))\n",
    "        print(f\"Moved: {filename} → {file_map[ext]}\")\n",
    "    else:\n",
    "        print(f\"Skipped: {filename} (unknown type)\")\n"
   ]
  },
  {
   "cell_type": "code",
   "execution_count": 4,
   "id": "c8868c79-fbb1-4208-ac9f-748f0df7f50b",
   "metadata": {},
   "outputs": [
    {
     "name": "stdout",
     "output_type": "stream",
     "text": [
      "\n",
      " Folder: csv\n",
      " sales_data.csv → 0.64 KB\n",
      " Weather Dataset.csv → 451.78 KB\n",
      "\n",
      " Folder: excel\n",
      " financial_loan.xlsx → 6120.86 KB\n",
      " sample-chocolate-sales-data-all.xlsx → 445.83 KB\n",
      "\n",
      " Folder: json\n",
      " details_AISJDKFJW93NJ.json → 0.21 KB\n",
      " details_DJKFIEI432FIE.json → 0.23 KB\n",
      " details_GGOENEBJ079499.json → 0.22 KB\n",
      " details_HJSKNWK429DJE.json → 0.24 KB\n",
      " details_JFKL3940NFKLJ.json → 0.23 KB\n",
      " details_LKDFJ49LSDJKL.json → 0.22 KB\n",
      " details_MWKDI3JFK39SL.json → 0.19 KB\n",
      " details_NEKFJOWE9FDIW.json → 0.2 KB\n",
      " details_OWEJL398FWJLK.json → 0.22 KB\n",
      " details_XPLFJW2490XJN.json → 0.24 KB\n",
      "\n",
      " Folder: text\n",
      " description_AISJDKFJW93NJ.txt → 0.32 KB\n",
      " description_DJKFIEI432FIE.txt → 0.38 KB\n",
      " description_GGOENEBJ079499.txt → 0.37 KB\n",
      " description_HJSKNWK429DJE.txt → 0.41 KB\n",
      " description_JFKL3940NFKLJ.txt → 0.33 KB\n",
      " description_LKDFJ49LSDJKL.txt → 0.35 KB\n",
      " description_MWKDI3JFK39SL.txt → 0.36 KB\n",
      " description_NEKFJOWE9FDIW.txt → 0.36 KB\n",
      " description_OWEJL398FWJLK.txt → 0.34 KB\n",
      " description_XPLFJW2490XJN.txt → 0.34 KB\n"
     ]
    }
   ],
   "source": [
    "import os\n",
    "\n",
    "# Base folder where all type folders exist\n",
    "base_dir = r\"D:\\data analytics\\DS and AI\\final projects portfolio\\python automation project\\all folders\"\n",
    "\n",
    "# List of subfolders to scan\n",
    "folders = [\"csv\", \"excel\", \"json\", \"text\"]\n",
    "\n",
    "# Loop through each folder\n",
    "for folder in folders:\n",
    "    folder_path = os.path.join(base_dir, folder)\n",
    "    print(f\"\\n Folder: {folder}\")\n",
    "\n",
    "    # Loop through files in folder\n",
    "    for filename in os.listdir(folder_path):\n",
    "        file_path = os.path.join(folder_path, filename)\n",
    "        if os.path.isfile(file_path):\n",
    "            size_kb = os.path.getsize(file_path) / 1024  # size in KB\n",
    "            print(f\" {filename} → {round(size_kb, 2)} KB\")\n"
   ]
  },
  {
   "cell_type": "code",
   "execution_count": null,
   "id": "72d259ff-2d16-440a-a0e9-db0f528490a5",
   "metadata": {},
   "outputs": [],
   "source": []
  }
 ],
 "metadata": {
  "kernelspec": {
   "display_name": "Python 3 (ipykernel)",
   "language": "python",
   "name": "python3"
  },
  "language_info": {
   "codemirror_mode": {
    "name": "ipython",
    "version": 3
   },
   "file_extension": ".py",
   "mimetype": "text/x-python",
   "name": "python",
   "nbconvert_exporter": "python",
   "pygments_lexer": "ipython3",
   "version": "3.13.1"
  }
 },
 "nbformat": 4,
 "nbformat_minor": 5
}
